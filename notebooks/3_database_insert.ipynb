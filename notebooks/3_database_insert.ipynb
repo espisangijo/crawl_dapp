{
 "cells": [
  {
   "cell_type": "code",
   "execution_count": 2,
   "id": "38ad71da-5b18-47f7-b325-e0ae55c5df9b",
   "metadata": {},
   "outputs": [],
   "source": [
    "import psycopg2\n",
    "import json\n",
    "from collections import defaultdict\n",
    "import pandas as pd\n",
    "import numpy as np"
   ]
  },
  {
   "cell_type": "markdown",
   "id": "b0713ac3-ed9d-4019-bda5-5feda25c6c47",
   "metadata": {
    "tags": []
   },
   "source": [
    "## Setup Database Connection"
   ]
  },
  {
   "cell_type": "code",
   "execution_count": 20,
   "id": "65697ae4-ede4-4c66-8b8e-830d9f82052e",
   "metadata": {},
   "outputs": [],
   "source": [
    "import psycopg2.extensions\n",
    "from psycopg2.extras import LoggingConnection, LoggingCursor\n",
    "import logging\n",
    "\n",
    "logging.basicConfig(level=logging.DEBUG)\n",
    "logger = logging.getLogger(__name__)\n",
    "\n",
    "# MyLoggingCursor simply sets self.timestamp at start of each query                                                                 \n",
    "class MyLoggingCursor(LoggingCursor):\n",
    "    def execute(self, query, vars=None):\n",
    "        self.timestamp = time.time()\n",
    "        return super(MyLoggingCursor, self).execute(query, vars)\n",
    "\n",
    "    def callproc(self, procname, vars=None):\n",
    "        self.timestamp = time.time()\n",
    "        return super(MyLoggingCursor, self).callproc(procname, vars)\n",
    "\n",
    "# MyLogging Connection:                                                                                                             \n",
    "#   a) calls MyLoggingCursor rather than the default                                                                                \n",
    "#   b) adds resulting execution (+ transport) time via filter()                                                                     \n",
    "class MyLoggingConnection(LoggingConnection):\n",
    "    def filter(self, msg, curs):\n",
    "        return msg.decode(psycopg2.extensions.encodings[self.encoding], 'replace') + \"   %d ms\" % int((time.time() - curs.timestamp) * 1000)\n",
    "\n",
    "    def cursor(self, *args, **kwargs):\n",
    "        kwargs.setdefault('cursor_factory', MyLoggingCursor)\n",
    "        return LoggingConnection.cursor(self, *args, **kwargs)"
   ]
  },
  {
   "cell_type": "code",
   "execution_count": 22,
   "id": "a806065c-1058-4d2c-8cb0-26cab0535bc9",
   "metadata": {},
   "outputs": [],
   "source": [
    "db_settings ={\"host\":\"localhost\",\n",
    "                        \"port\":\"5432\",\n",
    "                        \"user\":\"postgres\",\n",
    "                        \"password\":\"11111111\",\n",
    "                        \"database\":\"postgres\"}\n",
    "conn = psycopg2.connect(connection_factory=LoggingConnection, **db_settings)\n",
    "conn.autocommit = True\n",
    "conn.initialize(logger)\n",
    "cursor = conn.cursor()"
   ]
  },
  {
   "cell_type": "code",
   "execution_count": 35,
   "id": "d44ec043-ca0d-4942-8a08-912d0b3a8d14",
   "metadata": {},
   "outputs": [],
   "source": [
    "dapp_df = pd.DataFrame.from_dict(data, orient='index')"
   ]
  },
  {
   "cell_type": "code",
   "execution_count": 39,
   "id": "9bf3aef9-3d2b-4037-8de8-48153b786a53",
   "metadata": {},
   "outputs": [
    {
     "data": {
      "text/plain": [
       "''"
      ]
     },
     "execution_count": 39,
     "metadata": {},
     "output_type": "execute_result"
    }
   ],
   "source": [
    "dapp_df.loc[\"PepeDapp\",\"description\"]"
   ]
  },
  {
   "cell_type": "code",
   "execution_count": 45,
   "id": "6f6d2ae8-6f01-487b-b7ee-07b4540b9039",
   "metadata": {},
   "outputs": [
    {
     "data": {
      "text/plain": [
       "Index(['name', 'chain', 'category', 'balance', 'users', 'volume', 'imageUrl',\n",
       "       'social', 'description', 'smart_contract', 'url'],\n",
       "      dtype='object')"
      ]
     },
     "execution_count": 45,
     "metadata": {},
     "output_type": "execute_result"
    }
   ],
   "source": [
    "dapp_df.columns"
   ]
  },
  {
   "cell_type": "code",
   "execution_count": 61,
   "id": "fca146a3-32f0-44b5-a92f-24e150d9a691",
   "metadata": {},
   "outputs": [],
   "source": [
    "subset_df = dapp_df.drop([\"social\",\"smart_contract\"], axis=1)"
   ]
  },
  {
   "cell_type": "code",
   "execution_count": 49,
   "id": "48e3753c-2275-43f9-9d27-ef20e229a2fc",
   "metadata": {},
   "outputs": [
    {
     "data": {
      "text/plain": [
       "Index(['name', 'chain', 'category', 'balance', 'users', 'volume', 'imageUrl',\n",
       "       'description', 'url'],\n",
       "      dtype='object')"
      ]
     },
     "execution_count": 49,
     "metadata": {},
     "output_type": "execute_result"
    }
   ],
   "source": [
    "subset_df.columns"
   ]
  },
  {
   "cell_type": "code",
   "execution_count": 62,
   "id": "cc3f81b5-1e28-46f3-b265-a825abd45e43",
   "metadata": {},
   "outputs": [],
   "source": [
    "subset_df = subset_df.replace(\"'\", '\"', regex=True)"
   ]
  },
  {
   "cell_type": "code",
   "execution_count": 63,
   "id": "0114b269-b7b7-480f-aec5-59fbee001a7d",
   "metadata": {},
   "outputs": [],
   "source": [
    "dapp_dict = subset_df.to_dict(orient='tight')"
   ]
  },
  {
   "cell_type": "code",
   "execution_count": 64,
   "id": "9d6c15f4-9cc3-49b9-8fe9-7a78c6d6eb13",
   "metadata": {},
   "outputs": [],
   "source": [
    "dapp_tuple = [tuple(i) for i in dapp_dict['data']]"
   ]
  },
  {
   "cell_type": "code",
   "execution_count": 81,
   "id": "982d95fb-c979-4a3e-a750-d196556f563a",
   "metadata": {},
   "outputs": [],
   "source": [
    "sql1 = '''\n",
    "CREATE TABLE dapps(\n",
    "    id SERIAL PRIMARY KEY,\n",
    "    name VARCHAR NOT NULL, \n",
    "    chain VARCHAR NOT NULL, \n",
    "    category VARCHAR, \n",
    "    balance VARCHAR, \n",
    "    users VARCHAR, \n",
    "    volume VARCHAR, \n",
    "    imageUrl VARCHAR, \n",
    "    description VARCHAR, \n",
    "    url VARCHAR)\n",
    "'''\n",
    "cursor.execute(sql1)"
   ]
  },
  {
   "cell_type": "code",
   "execution_count": 80,
   "id": "7bf07bdf-6725-44d1-8f0b-07ab7d707413",
   "metadata": {},
   "outputs": [],
   "source": [
    "sql_drop = \"DROP TABLE dapps\";\n",
    "cursor.execute(sql_drop)"
   ]
  },
  {
   "cell_type": "code",
   "execution_count": 82,
   "id": "30879ac0-3b38-48f9-9d69-e827f2e2790b",
   "metadata": {},
   "outputs": [],
   "source": [
    "for i in dapp_tuple:\n",
    "    sql2='''insert into dapps(name, chain, category, balance, users, volume, imageUrl, description, url)\n",
    "            VALUES{};'''.format(i)\n",
    "    cursor.execute(sql2)"
   ]
  },
  {
   "cell_type": "markdown",
   "id": "e42c6176-5a99-40db-86f9-61a10e0edc85",
   "metadata": {},
   "source": [
    "### Import data"
   ]
  },
  {
   "cell_type": "code",
   "execution_count": 10,
   "id": "457f06cf-9e8a-4844-8b7d-62f5f519d0db",
   "metadata": {},
   "outputs": [],
   "source": [
    "with open('../data/vrdb/vr_complete.json','r') as f:\n",
    "    data = json.load(f)"
   ]
  },
  {
   "cell_type": "markdown",
   "id": "3f52b379-f13f-49d4-b89e-86edb975ff81",
   "metadata": {},
   "source": [
    "### Transform data"
   ]
  },
  {
   "cell_type": "code",
   "execution_count": 11,
   "id": "01e5c35c-da8e-438a-872f-5ec425483faf",
   "metadata": {},
   "outputs": [],
   "source": [
    "new_dict = defaultdict(dict)\n",
    "for k, v in data.items():\n",
    "    new_dict[k]['title'] = v['title']\n",
    "    new_dict[k]['description'] = v['desc']\n",
    "    new_dict[k]['game_modes'] = v['additional_data']['Game Modes'] if 'Game Modes' in v['additional_data'] else ''\n",
    "    new_dict[k]['supported_player_modes'] = v['additional_data']['Supported Player Modes'] if 'Supported Player Modes' in v['additional_data'] else ''\n",
    "    new_dict[k]['supported_controllers'] = v['additional_data']['Supported Controllers'] if 'Supported Controllers' in v['additional_data'] else ''\n",
    "    new_dict[k]['supported_platforms'] = v['additional_data']['Supported Platforms'] if 'Supported Platforms' in v['additional_data'] else ''\n",
    "    new_dict[k]['category'] = v['additional_data']['Category'] if 'Category' in v['additional_data'] else ''\n",
    "    new_dict[k]['genres'] = v['additional_data']['Genres'] if 'Genres' in v['additional_data'] else ''\n",
    "    new_dict[k]['languages'] = v['additional_data']['Languages'] if 'Languages' in v['additional_data'] else ''\n",
    "    new_dict[k]['version'] = v['additional_data']['Version'] if 'Version' in v['additional_data'] else v['additional_data']['Version + Release Notes']\n",
    "    new_dict[k]['developer'] = v['additional_data']['Developer'] if 'Developer' in v['additional_data'] else ''\n",
    "    new_dict[k]['publisher'] = v['additional_data']['Publisher'] if 'Publisher' in v['additional_data'] else ''\n",
    "    new_dict[k]['website'] = v['additional_data']['Website'] if 'Website' in v['additional_data'] else ''\n",
    "    new_dict[k]['release_date'] = v['additional_data']['Release Date'] if 'Release Date' in v['additional_data'] else ''\n",
    "    new_dict[k]['space_required'] = v['additional_data']['Space Required'] if 'Space Required' in v['additional_data'] else ''\n",
    "    "
   ]
  },
  {
   "cell_type": "code",
   "execution_count": 12,
   "id": "6095c913-0858-4d24-8216-68d1d9e458cf",
   "metadata": {},
   "outputs": [],
   "source": [
    "vr_df = pd.DataFrame.from_dict(new_dict, orient='index')"
   ]
  },
  {
   "cell_type": "code",
   "execution_count": 13,
   "id": "59c49453-43ef-4e9d-b615-3d86c699c726",
   "metadata": {},
   "outputs": [],
   "source": [
    "vr_df = vr_df.replace('\\n',' ', regex=True)\n",
    "vr_df = vr_df.replace(\"'\", '\"', regex=True)"
   ]
  },
  {
   "cell_type": "code",
   "execution_count": 14,
   "id": "7f3c204c-e8ca-4ba4-947e-f3f50a8a6c01",
   "metadata": {},
   "outputs": [],
   "source": [
    "db_dict = vr_df.to_dict(orient='tight')"
   ]
  },
  {
   "cell_type": "code",
   "execution_count": 15,
   "id": "998eb794-11b6-40d3-9e6d-5813431e9057",
   "metadata": {},
   "outputs": [],
   "source": [
    "db_tuple = [tuple(i) for i in db_dict['data']]"
   ]
  },
  {
   "cell_type": "code",
   "execution_count": 30,
   "id": "ada61947-ee07-4e25-8c74-b839955aea46",
   "metadata": {},
   "outputs": [
    {
     "data": {
      "text/html": [
       "<div>\n",
       "<style scoped>\n",
       "    .dataframe tbody tr th:only-of-type {\n",
       "        vertical-align: middle;\n",
       "    }\n",
       "\n",
       "    .dataframe tbody tr th {\n",
       "        vertical-align: top;\n",
       "    }\n",
       "\n",
       "    .dataframe thead th {\n",
       "        text-align: right;\n",
       "    }\n",
       "</style>\n",
       "<table border=\"1\" class=\"dataframe\">\n",
       "  <thead>\n",
       "    <tr style=\"text-align: right;\">\n",
       "      <th></th>\n",
       "      <th>description</th>\n",
       "    </tr>\n",
       "  </thead>\n",
       "  <tbody>\n",
       "    <tr>\n",
       "      <th>Alien Extraction Demo</th>\n",
       "      <td>There\"s a big alien mess and somebody\"s gotta ...</td>\n",
       "    </tr>\n",
       "  </tbody>\n",
       "</table>\n",
       "</div>"
      ],
      "text/plain": [
       "                                                             description\n",
       "Alien Extraction Demo  There\"s a big alien mess and somebody\"s gotta ..."
      ]
     },
     "execution_count": 30,
     "metadata": {},
     "output_type": "execute_result"
    }
   ],
   "source": [
    "vr_df.iloc[[3],[1]]"
   ]
  },
  {
   "cell_type": "markdown",
   "id": "6fe310af-9c75-477a-aaf3-d404e3099f3b",
   "metadata": {},
   "source": [
    "# SQL Query"
   ]
  },
  {
   "cell_type": "markdown",
   "id": "99a01cf9-afe0-4703-8f7d-3cf508c1aa67",
   "metadata": {
    "tags": []
   },
   "source": [
    "### CREATE TABLE vr_applications"
   ]
  },
  {
   "cell_type": "code",
   "execution_count": 24,
   "id": "3bfbeeef-639e-43cc-b9fd-7e12230475e4",
   "metadata": {},
   "outputs": [],
   "source": [
    "import time\n",
    "from datetime import datetime"
   ]
  },
  {
   "cell_type": "code",
   "execution_count": 5,
   "id": "fd6765a4-ae17-48f7-8b0b-4aee6d4414aa",
   "metadata": {},
   "outputs": [],
   "source": [
    "sql_drop = \"DROP TABLE vr_applications\";\n",
    "cursor.execute(sql_drop)"
   ]
  },
  {
   "cell_type": "code",
   "execution_count": 6,
   "id": "12fb40f2-4e7b-4b84-9fcc-20525cdcd84d",
   "metadata": {},
   "outputs": [],
   "source": [
    "sql_drop = \"DROP TABLE vr_applications_dup\";\n",
    "cursor.execute(sql_drop)"
   ]
  },
  {
   "cell_type": "code",
   "execution_count": 7,
   "id": "1daecf47-71e0-46dd-8f04-544511dc81d2",
   "metadata": {},
   "outputs": [],
   "source": [
    "sql1 = '''\n",
    "CREATE TABLE vr_applications(\n",
    "    id SERIAL PRIMARY KEY,\n",
    "    title VARCHAR NOT NULL, \n",
    "    description VARCHAR NOT NULL, \n",
    "    game_modes VARCHAR, \n",
    "    supported_player_modes VARCHAR, \n",
    "    supported_controllers VARCHAR, \n",
    "    supported_platforms VARCHAR, \n",
    "    category VARCHAR, \n",
    "    genres VARCHAR, \n",
    "    languages VARCHAR, \n",
    "    version VARCHAR, \n",
    "    developer VARCHAR, \n",
    "    publisher VARCHAR, \n",
    "    website VARCHAR, \n",
    "    release_date VARCHAR, \n",
    "    space_required VARCHAR)\n",
    "'''\n",
    "cursor.execute(sql1)"
   ]
  },
  {
   "cell_type": "code",
   "execution_count": 8,
   "id": "1e6e3c00-4dfe-415a-95c3-ffa99591d53d",
   "metadata": {},
   "outputs": [],
   "source": [
    "sql1 = '''\n",
    "CREATE TABLE vr_applications_dup(\n",
    "    id SERIAL PRIMARY KEY,\n",
    "    title VARCHAR NOT NULL, \n",
    "    description VARCHAR NOT NULL, \n",
    "    game_modes VARCHAR, \n",
    "    supported_player_modes VARCHAR, \n",
    "    supported_controllers VARCHAR, \n",
    "    supported_platforms VARCHAR, \n",
    "    category VARCHAR, \n",
    "    genres VARCHAR, \n",
    "    languages VARCHAR, \n",
    "    version VARCHAR, \n",
    "    developer VARCHAR, \n",
    "    publisher VARCHAR, \n",
    "    website VARCHAR, \n",
    "    release_date VARCHAR, \n",
    "    space_required VARCHAR)\n",
    "'''\n",
    "cursor.execute(sql1)"
   ]
  },
  {
   "cell_type": "markdown",
   "id": "3fd4cdaa-e481-47bf-9899-2952c2ebca2d",
   "metadata": {},
   "source": [
    "### INSERT data to vr_applications"
   ]
  },
  {
   "cell_type": "code",
   "execution_count": 16,
   "id": "3bc113ea-c9cf-4b3f-8a3b-1a051800c8b9",
   "metadata": {
    "scrolled": true,
    "tags": []
   },
   "outputs": [],
   "source": [
    "for i in db_tuple:\n",
    "    sql2='''insert into vr_applications(title, description, game_modes, supported_player_modes, supported_controllers, supported_platforms, category, genres, languages, version, developer, publisher, website, release_date, space_required) \n",
    "            VALUES{};'''.format(i)\n",
    " \n",
    "    cursor.execute(sql2)"
   ]
  },
  {
   "cell_type": "code",
   "execution_count": 17,
   "id": "0134eb22-ce72-4dc8-be07-ee384e50e3c7",
   "metadata": {},
   "outputs": [],
   "source": [
    "for i in db_tuple:\n",
    "    sql2='''insert into vr_applications_dup(title, description, game_modes, supported_player_modes, supported_controllers, supported_platforms, category, genres, languages, version, developer, publisher, website, release_date, space_required) \n",
    "            VALUES{};'''.format(i)\n",
    " \n",
    "    cursor.execute(sql2)"
   ]
  },
  {
   "cell_type": "code",
   "execution_count": 28,
   "id": "84bf2549-df09-43dd-87d4-ecfb1832f26f",
   "metadata": {},
   "outputs": [
    {
     "name": "stderr",
     "output_type": "stream",
     "text": [
      "DEBUG:__main__:b'CREATE INDEX ts_gin ON vr_applications USING GIN (ts);'\n"
     ]
    },
    {
     "name": "stdout",
     "output_type": "stream",
     "text": [
      "took 0:00:01.512358 to complete\n"
     ]
    },
    {
     "name": "stderr",
     "output_type": "stream",
     "text": [
      "DEBUG:__main__:b'CREATE INDEX ts_trgm ON vr_applications_dup USING GIN (description gin_trgm_ops);'\n"
     ]
    },
    {
     "name": "stdout",
     "output_type": "stream",
     "text": [
      "took 0:00:02.788927 to complete\n"
     ]
    }
   ],
   "source": [
    "command = []\n",
    "command2 = []\n",
    "# add new column for text search\n",
    "# command.append(\"\"\"ALTER TABLE vr_applications ADD COLUMN ts tsvector \n",
    "#     GENERATED ALWAYS AS (to_tsvector('english', description)) STORED;\"\"\")\n",
    "\n",
    "# create index\n",
    "command.append(\"\"\"CREATE INDEX ts_gin ON vr_applications USING GIN (ts);\"\"\")\n",
    "\n",
    "\n",
    "# add pg_trgm\n",
    "# command2.append(\"\"\"CREATE EXTENSION pg_trgm;\"\"\")\n",
    "\n",
    "# create second index\n",
    "command2.append(\"\"\"CREATE INDEX ts_trgm ON vr_applications_dup USING GIN (description gin_trgm_ops);\"\"\")\n",
    "\n",
    "for c in command:\n",
    "    start = datetime.now()\n",
    "    cursor.execute(c)\n",
    "    print(f\"took {datetime.now() - start} to complete\")\n",
    "    \n",
    "    \n",
    "for c in command2:\n",
    "    start = datetime.now()\n",
    "    cursor.execute(c)\n",
    "    print(f\"took {datetime.now() - start} to complete\")"
   ]
  },
  {
   "cell_type": "markdown",
   "id": "9070f48c-fc32-4a7d-bfbb-5f1585d47564",
   "metadata": {},
   "source": [
    "### SELECT a record where it contains \"haunted\""
   ]
  },
  {
   "cell_type": "code",
   "execution_count": 134,
   "id": "54ca7962-0749-432c-97f0-1ead0ce314fc",
   "metadata": {},
   "outputs": [],
   "source": [
    "sql3 = \"\"\"SELECT * FROM vr_applications WHERE ts @@ to_tsquery('english', 'haunted');\"\"\"\n",
    "\n",
    "cursor.execute(sql3)"
   ]
  },
  {
   "cell_type": "code",
   "execution_count": 135,
   "id": "8138c40b-beb1-41aa-b575-1209e36e3b4a",
   "metadata": {},
   "outputs": [],
   "source": [
    "haunted_vr = cursor.fetchall()"
   ]
  },
  {
   "cell_type": "code",
   "execution_count": 123,
   "id": "86acd17f-7a44-4f7e-b005-c53061630585",
   "metadata": {},
   "outputs": [],
   "source": [
    "# sql_drop = \"DROP TABLE vr_applications\";\n",
    "# cursor.execute(sql_drop)"
   ]
  },
  {
   "cell_type": "code",
   "execution_count": 138,
   "id": "2bf078c3-d642-42c1-a274-e31586794250",
   "metadata": {},
   "outputs": [],
   "source": [
    "sql1 = '''\n",
    "CREATE TABLE vr_applications(\n",
    "    id SERIAL PRIMARY KEY,\n",
    "    title VARCHAR NOT NULL, \n",
    "    description VARCHAR NOT NULL, \n",
    "    game_modes VARCHAR, \n",
    "    supported_player_modes VARCHAR, \n",
    "    supported_controllers VARCHAR, \n",
    "    supported_platforms VARCHAR, \n",
    "    category VARCHAR, \n",
    "    genres VARCHAR, \n",
    "    languages VARCHAR, \n",
    "    version VARCHAR, \n",
    "    developer VARCHAR, \n",
    "    publisher VARCHAR, \n",
    "    website VARCHAR, \n",
    "    release_date VARCHAR, \n",
    "    space_required VARCHAR)\n",
    "'''\n",
    "cursor.execute(sql1)"
   ]
  },
  {
   "cell_type": "markdown",
   "id": "4d7ec07d-95f4-45ed-9f4f-f8986689a550",
   "metadata": {},
   "source": [
    "### INSERT data to vr_applications"
   ]
  },
  {
   "cell_type": "code",
   "execution_count": null,
   "id": "146bc329-5f6b-4e6e-b96f-a7a789867437",
   "metadata": {},
   "outputs": [],
   "source": [
    "for i in db_tuple:\n",
    "    sql2='''insert into vr_applications(title, description, game_modes, supported_player_modes, supported_controllers, supported_platforms, category, genres, languages, version, developer, publisher, website, release_date, space_required) \n",
    "            VALUES{};'''.format(i)\n",
    " \n",
    "    cursor.execute(sql200)"
   ]
  },
  {
   "cell_type": "code",
   "execution_count": 133,
   "id": "2f8d73e7-7be4-4c41-b40d-b6f1bdd6e4b5",
   "metadata": {},
   "outputs": [],
   "source": [
    "command = []\n",
    "# add new column for text search\n",
    "command.append(\"\"\"ALTER TABLE vr_applications ADD COLUMN ts tsvector \n",
    "    GENERATED ALWAYS AS (to_tsvector('english', description)) STORED;\"\"\")\n",
    "\n",
    "# create index\n",
    "command.append(\"\"\"CREATE INDEX ts_idx ON vr_applications USING GIN (ts);\"\"\")\n",
    "\n",
    "for c in command:\n",
    "    cursor.execute(c)"
   ]
  },
  {
   "cell_type": "markdown",
   "id": "7644191a-9612-442d-82b4-91ed910059db",
   "metadata": {},
   "source": [
    "### SELECT a record where it contains \"haunted\""
   ]
  },
  {
   "cell_type": "code",
   "execution_count": 134,
   "id": "4603b552-fb8b-4f6b-9f1a-9a4fd206b60e",
   "metadata": {},
   "outputs": [],
   "source": [
    "sql3 = \"\"\"explain analyze SELECT *\n",
    "FROM vr_applications\n",
    "WHERE ts @@ to_tsquery('english', 'haunted');\"\"\"\n",
    "\n",
    "cursor.execute(sql3)"
   ]
  },
  {
   "cell_type": "code",
   "execution_count": 135,
   "id": "f05757ad-2e73-4b37-908c-50a9124192a0",
   "metadata": {},
   "outputs": [],
   "source": [
    "haunted_vr = cursor.fetchall()"
   ]
  },
  {
   "cell_type": "code",
   "execution_count": 6,
   "id": "5f97a077-62ce-4dfc-95f6-f49f2c24af58",
   "metadata": {},
   "outputs": [],
   "source": [
    "# es.search(index=\"description\", q=\"big alien mess\")\n",
    "sql_q2 = \"explain analyze SELECT title FROM vr_applications WHERE ts @@ to_tsquery('english', 'music & game');\""
   ]
  },
  {
   "cell_type": "markdown",
   "id": "b75b3e21-7cf2-49cf-803d-bd13eb84b71c",
   "metadata": {},
   "source": [
    "# Testing performance"
   ]
  },
  {
   "cell_type": "code",
   "execution_count": 201,
   "id": "ec278c91-30ee-4e59-8016-9133ea7b4407",
   "metadata": {},
   "outputs": [],
   "source": [
    "import re\n",
    "from collections import defaultdict, OrderedDict"
   ]
  },
  {
   "cell_type": "code",
   "execution_count": 185,
   "id": "509630cf-c20f-42a4-b962-b8231f184435",
   "metadata": {},
   "outputs": [],
   "source": [
    "def pg_took(d):\n",
    "    data = str(d[-2][0])\n",
    "    data = re.sub(\"[^:]*:\",\"\",data)\n",
    "    data = re.sub(\"ms\",\"\",data)\n",
    "    data = float(data.strip())\n",
    "    \n",
    "    data2 = str(d[-1][0])\n",
    "    data2 = re.sub(\"[^:]*:\",\"\",data2)\n",
    "    data2 = re.sub(\"ms\",\"\",data2)\n",
    "    data2 = float(data2.strip())\n",
    "    return data + data2\n",
    "\n",
    "def es_took(data):\n",
    "    return data['took']\n",
    "\n",
    "def exec_pg(query):\n",
    "    try:\n",
    "        query = \" & \".join(query.split(' '))\n",
    "        cursor.execute(f\"explain analyze SELECT title FROM vr_applications WHERE ts @@ to_tsquery('english', '{query}');\")\n",
    "        data = cursor.fetchall()\n",
    "    except:\n",
    "        print(query)\n",
    "    return data\n",
    "\n",
    "def exec_es(query):\n",
    "    data = es.search(index=\"description\", q=query)\n",
    "    return data"
   ]
  },
  {
   "cell_type": "code",
   "execution_count": 191,
   "id": "f34d9231-582f-41d6-baad-dc4f1c28b431",
   "metadata": {},
   "outputs": [],
   "source": [
    "def listify_query(q):\n",
    "    qlist = q.split(\" \")\n",
    "    return [\" \".join(qlist[:n]) for n in range(len(qlist),0,-1)]"
   ]
  },
  {
   "cell_type": "code",
   "execution_count": 192,
   "id": "428cacd7-97d0-4682-b13f-31aeb2003fbc",
   "metadata": {},
   "outputs": [],
   "source": [
    "sample_query_1 = \"MOOD consists of carefully crafted motion arts and sounds united with ancient meditative practices\"\n",
    "queries_1 = listify_query(sample_query_1)\n",
    "\n",
    "sample_query_2 = \"Play the drums like a rock hero, and survive in hell fighting against demons\"\n",
    "queries_2 = listify_query(sample_query_2)\n",
    "\n",
    "sample_query_3 = \"Sledge Destruction Simulator is a physics based VR game that allows you to destroy\"\n",
    "queries_3 = listify_query(sample_query_3)\n",
    "\n",
    "sample_query_4 = '3D modeling in VR. Use curve-based \"patches\" to create geometry, and paint them using'\n",
    "queries_4 = listify_query(sample_query_4)\n",
    "\n",
    "sample_query_5 = 'Life Simulator VR is a language learning service that trains your \"ears\" and \"vocabulary\"'\n",
    "queries_5 = listify_query(sample_query_5)\n",
    "\n",
    "q6 = 'Begin your legend now and become a cornhole king. Travel through time to the ruins of an ancient world'\n",
    "queries_6 = listify_query(q6)\n",
    "\n",
    "q7 = 'Turn on Sport Mode to take it to the next level of VR physics interaction where your creativity is the limit'\n",
    "queries_7 = listify_query(q7)\n",
    "\n",
    "q8 = 'This is an exciting VR aerial combat game. It combines elements of naval warfare.'\n",
    "queries_8 = listify_query(q8)\n",
    "\n",
    "q9 = 'Want to make exercise fun? Punch, stretch, squat and step your way to fitness in this 360° game'\n",
    "queries_9 = listify_query(q9)\n",
    "\n",
    "q10 = 'PolarDread is a horror game inspired by games in the Sit And Survive Genre that takes the'\n",
    "queries_10 = listify_query(q10)"
   ]
  },
  {
   "cell_type": "code",
   "execution_count": 156,
   "id": "41963e49-2dd2-44d9-a68b-2994c1a72c66",
   "metadata": {},
   "outputs": [],
   "source": [
    "es_results = defaultdict(list)\n",
    "pg_results = defaultdict(list)\n",
    "queries = [queries_1, queries_2, queries_3, queries_4, queries_5]\n",
    "for query in queries:\n",
    "    for q in query:\n",
    "        es_results[len(q.split(\" \"))].append(es_took(exec_es(q)))\n",
    "        pg_results[len(q.split(\" \"))].append(pg_took(exec_pg(q)))\n",
    "        "
   ]
  },
  {
   "cell_type": "code",
   "execution_count": 181,
   "id": "623dd44c-d968-497c-b600-6d649613b392",
   "metadata": {},
   "outputs": [],
   "source": [
    "pg_avg = {}\n",
    "for k, v in pg_results.items():\n",
    "    pg_avg[k] = sum(v)/len(v)\n",
    "    \n",
    "es_avg = {}\n",
    "for k, v in es_results.items():\n",
    "    es_avg[k] = sum(v)/len(v)"
   ]
  },
  {
   "cell_type": "code",
   "execution_count": null,
   "id": "c1096f2f-765e-4690-82fc-ec35b32b3258",
   "metadata": {},
   "outputs": [],
   "source": []
  },
  {
   "cell_type": "code",
   "execution_count": 166,
   "id": "70e79502-3e5a-4484-bb11-f6d77f87387a",
   "metadata": {},
   "outputs": [],
   "source": [
    "from matplotlib import pyplot as plt"
   ]
  },
  {
   "cell_type": "code",
   "execution_count": 243,
   "id": "a2150adc-fca2-4b1d-bfc6-c9e6ad0135d3",
   "metadata": {},
   "outputs": [
    {
     "data": {
      "image/png": "[encoded data removed]",
      "text/plain": [
       "<Figure size 432x288 with 1 Axes>"
      ]
     },
     "metadata": {},
     "output_type": "display_data"
    }
   ],
   "source": [
    "plt.plot(pg_avg.keys(), pg_avg.values(), 'r-^')\n",
    "plt.plot(es_avg.keys(), es_avg.values(),'b-o')\n",
    "plt.xticks(np.arange(min(pg_avg.keys()), max(pg_avg.keys())+1, 1.0))\n",
    "plt.title(\"Postgres vs. Elasticsearch Test No. 1\")\n",
    "plt.ylabel(\"time (ms)\")\n",
    "plt.ylim(top=3.5)\n",
    "plt.xlabel(\"number of words\")\n",
    "plt.legend(['PG','ES'] , loc='upper left')\n",
    "plt.show()"
   ]
  },
  {
   "cell_type": "code",
   "execution_count": 193,
   "id": "38091b35-8f3a-496a-a632-e64ed3dea4aa",
   "metadata": {},
   "outputs": [],
   "source": [
    "es_results2 = defaultdict(list)\n",
    "pg_results2 = defaultdict(list)\n",
    "queries = [queries_6, queries_7, queries_8, queries_9, queries_10]\n",
    "for query in queries:\n",
    "    for q in query:\n",
    "        es_results2[len(q.split(\" \"))].append(es_took(exec_es(q)))\n",
    "        pg_results2[len(q.split(\" \"))].append(pg_took(exec_pg(q)))"
   ]
  },
  {
   "cell_type": "code",
   "execution_count": 194,
   "id": "dda85faa-4ff2-4df8-bf95-02e506f24223",
   "metadata": {},
   "outputs": [],
   "source": [
    "pg_avg2 = {}\n",
    "for k, v in pg_results2.items():\n",
    "    pg_avg2[k] = sum(v)/len(v)\n",
    "    \n",
    "es_avg2 = {}\n",
    "for k, v in es_results2.items():\n",
    "    es_avg2[k] = sum(v)/len(v)"
   ]
  },
  {
   "cell_type": "code",
   "execution_count": 203,
   "id": "3ff31443-f6ea-4860-aa70-405342d5b440",
   "metadata": {},
   "outputs": [],
   "source": [
    "ordered_pg_avg2 = OrderedDict(sorted(pg_avg2.items()))\n",
    "ordered_es_avg2 = OrderedDict(sorted(es_avg2.items()))"
   ]
  },
  {
   "cell_type": "code",
   "execution_count": 210,
   "id": "165b18a2-be24-4059-9cbb-d1e4ff5e0db9",
   "metadata": {},
   "outputs": [],
   "source": [
    "import seaborn as sns\n",
    "sns.set()"
   ]
  },
  {
   "cell_type": "code",
   "execution_count": 242,
   "id": "8dcfde2e-a8e9-4b9d-a8d8-1a56dab47031",
   "metadata": {},
   "outputs": [
    {
     "data": {
      "image/png": "[encoded data removed]",
      "text/plain": [
       "<Figure size 432x288 with 1 Axes>"
      ]
     },
     "metadata": {},
     "output_type": "display_data"
    }
   ],
   "source": [
    "\n",
    "plt.plot(ordered_pg_avg2.keys(), ordered_pg_avg2.values(), 'r-^')\n",
    "plt.plot(ordered_es_avg2.keys(), ordered_es_avg2.values(),'b-o')\n",
    "\n",
    "plt.xticks(np.arange(min(pg_avg2.keys()), max(pg_avg2.keys())+1, 1.0))\n",
    "plt.title(\"Postgres vs. Elasticsearch Test No. 2\")\n",
    "plt.ylabel(\"time (ms)\")\n",
    "plt.xlabel(\"number of words\")\n",
    "plt.legend(['PG','ES'] , loc='upper left')\n",
    "plt.show()"
   ]
  },
  {
   "cell_type": "code",
   "execution_count": 246,
   "id": "747342ed-15b5-4fc6-bc12-c7c86ac054db",
   "metadata": {},
   "outputs": [
    {
     "data": {
      "text/plain": [
       "defaultdict(list,\n",
       "            {19: [4, 2],\n",
       "             18: [7, 5, 20],\n",
       "             17: [4, 3, 11, 2],\n",
       "             16: [2, 2, 17, 5],\n",
       "             15: [2, 2, 17, 2],\n",
       "             14: [2, 2, 2, 7, 2],\n",
       "             13: [2, 2, 3, 5, 2],\n",
       "             12: [2, 2, 2, 10, 2],\n",
       "             11: [2, 5, 3, 9, 2],\n",
       "             10: [2, 2, 1, 5, 2],\n",
       "             9: [2, 2, 2, 3, 2],\n",
       "             8: [2, 1, 1, 4, 2],\n",
       "             7: [5, 2, 2, 3, 2],\n",
       "             6: [2, 1, 4, 2, 2],\n",
       "             5: [3, 1, 1, 4, 2],\n",
       "             4: [1, 3, 2, 2, 2],\n",
       "             3: [1, 1, 4, 1, 1],\n",
       "             2: [2, 1, 1, 1, 1],\n",
       "             1: [1, 3, 1, 1, 1],\n",
       "             21: [2],\n",
       "             20: [3]})"
      ]
     },
     "execution_count": 246,
     "metadata": {},
     "output_type": "execute_result"
    }
   ],
   "source": [
    "es_results2"
   ]
  },
  {
   "cell_type": "code",
   "execution_count": null,
   "id": "25ccb94f-df45-4a1d-b17b-c7c7a2f2ebc1",
   "metadata": {},
   "outputs": [],
   "source": []
  },
  {
   "cell_type": "code",
   "execution_count": null,
   "id": "5ea68cda-bda5-4fbf-99dc-112755c014bf",
   "metadata": {},
   "outputs": [],
   "source": []
  },
  {
   "cell_type": "code",
   "execution_count": 148,
   "id": "c5beabe2-7537-4a04-9e37-7990846b1f33",
   "metadata": {},
   "outputs": [],
   "source": [
    "set_q1 = set(data_q1)\n",
    "set_q2 = set(data_q2)"
   ]
  },
  {
   "cell_type": "code",
   "execution_count": 151,
   "id": "08b5cdc1-2a71-4b13-be70-578e57bf32ce",
   "metadata": {},
   "outputs": [
    {
     "data": {
      "text/plain": [
       "{('Big Ballers Basketball',), ('Drums Rock',), ('Jogja Gamelan Virtual',)}"
      ]
     },
     "execution_count": 151,
     "metadata": {},
     "output_type": "execute_result"
    }
   ],
   "source": [
    "set_q1.difference(set_q2)"
   ]
  },
  {
   "cell_type": "code",
   "execution_count": 152,
   "id": "f573d5a2-5fc9-41f7-b4c1-49a8755c20c6",
   "metadata": {},
   "outputs": [
    {
     "data": {
      "text/plain": [
       "{('Air Hockey Arcade',),\n",
       " ('Cleansheet',),\n",
       " ('Escape Legacy',),\n",
       " ('FigureOut VR',),\n",
       " ('Pierhead Arcade Quest',),\n",
       " ('The Secret of Retropolis Demo',)}"
      ]
     },
     "execution_count": 152,
     "metadata": {},
     "output_type": "execute_result"
    }
   ],
   "source": [
    "set_q2.difference(set_q1)"
   ]
  },
  {
   "cell_type": "markdown",
   "id": "7f687852-fcc7-4564-9354-6fbe5854beb9",
   "metadata": {},
   "source": [
    "# Elasticsearch"
   ]
  },
  {
   "cell_type": "code",
   "execution_count": 3,
   "id": "99dc68a8-ed8e-4cdb-a959-a79cd2690652",
   "metadata": {},
   "outputs": [],
   "source": [
    "from elasticsearch import Elasticsearch\n",
    "from datetime import datetime"
   ]
  },
  {
   "cell_type": "code",
   "execution_count": 4,
   "id": "4562fb3e-d612-4bcd-908a-7f222566fae4",
   "metadata": {},
   "outputs": [],
   "source": [
    "es = Elasticsearch(\n",
    "    \"https://localhost:9200\",\n",
    "    basic_auth=(\"elastic\", \"zMvCcWd2FhYwmDwmLXaG\"),\n",
    "    ca_certs=\"/Users/jackyangara/http_ca.crt\")"
   ]
  },
  {
   "cell_type": "code",
   "execution_count": 11,
   "id": "b710ae21-5e45-4555-8e28-d3eca22a68e3",
   "metadata": {},
   "outputs": [],
   "source": [
    "descriptions_to_index = list(vr_df.loc[:,\"description\"])"
   ]
  },
  {
   "cell_type": "code",
   "execution_count": 12,
   "id": "6b6889ae-aba2-4a8f-a6d4-babce23e0d0e",
   "metadata": {},
   "outputs": [],
   "source": [
    "for idx, desc in enumerate(descriptions_to_index):\n",
    "    start = datetime.now()\n",
    "    es.index(index=\"description3\", id=idx, document={\"description\": desc, \"timestamp\": datetime.now()})\n",
    "    print(f\"took {datetime.now() - start} to complete\")"
   ]
  },
  {
   "cell_type": "code",
   "execution_count": 13,
   "id": "2f2f6b27-bb9d-453b-b700-f6f6160d3aa6",
   "metadata": {},
   "outputs": [
    {
     "data": {
      "text/plain": [
       "ObjectApiResponse({'_index': 'description', '_id': '1', '_version': 1, '_seq_no': 1, '_primary_term': 1, '_ignored': ['description.keyword'], 'found': True, '_source': {'description': 'MOOD consists of carefully crafted motion arts and sounds united with ancient meditative practices to create a uniquely powerful meditative environment. It offers immersive guided meditations for Kindness, Joy, Flow, Cause & Effect, Today, Creativity, Compassion, Relaxation, Self Love, & Change. ', 'timestamp': '2022-03-11T16:05:08.244681'}})"
      ]
     },
     "execution_count": 13,
     "metadata": {},
     "output_type": "execute_result"
    }
   ],
   "source": [
    "es.get(index=\"description\", id=1)"
   ]
  },
  {
   "cell_type": "code",
   "execution_count": 106,
   "id": "5812fec4-abf4-47bd-8159-7b77c91c201e",
   "metadata": {},
   "outputs": [],
   "source": [
    "data = es.search(index=\"description\", q=\"big alien mess\")"
   ]
  },
  {
   "cell_type": "code",
   "execution_count": 107,
   "id": "b5b487c1-0ac5-4b3b-b0c3-5cbb2831cd5d",
   "metadata": {},
   "outputs": [
    {
     "data": {
      "text/plain": [
       "4"
      ]
     },
     "execution_count": 107,
     "metadata": {},
     "output_type": "execute_result"
    }
   ],
   "source": [
    "data['took']"
   ]
  },
  {
   "cell_type": "code",
   "execution_count": null,
   "id": "c93f3227-c742-4b09-921a-61fad3a0bbe2",
   "metadata": {},
   "outputs": [],
   "source": []
  }
 ],
 "metadata": {
  "kernelspec": {
   "display_name": "crawl_dapp-uk3ioV_e",
   "language": "python",
   "name": "crawl_dapp-uk3iov_e"
  },
  "language_info": {
   "codemirror_mode": {
    "name": "ipython",
    "version": 3
   },
   "file_extension": ".py",
   "mimetype": "text/x-python",
   "name": "python",
   "nbconvert_exporter": "python",
   "pygments_lexer": "ipython3",
   "version": "3.9.7"
  }
 },
 "nbformat": 4,
 "nbformat_minor": 5
}
