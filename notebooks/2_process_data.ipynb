{
 "cells": [
  {
   "cell_type": "code",
   "execution_count": 55,
   "id": "ff06e16a-4f1d-4325-ace7-c2abb6d17bcb",
   "metadata": {},
   "outputs": [],
   "source": [
    "import json\n",
    "import requests\n",
    "from etherscan import Etherscan\n",
    "from collections import defaultdict\n",
    "import ast\n"
   ]
  },
  {
   "cell_type": "code",
   "execution_count": 4,
   "id": "f2246ee8-fda8-40d9-9c37-5bda76fa7f4e",
   "metadata": {},
   "outputs": [],
   "source": [
    "with open('../data/dapp_radar/new_dapp.json','r') as f:\n",
    "    data = json.load(f)"
   ]
  },
  {
   "cell_type": "code",
   "execution_count": 15,
   "id": "1cfa926f-7c71-4a72-b30a-85737a31538b",
   "metadata": {},
   "outputs": [],
   "source": [
    "all_contracts = []\n",
    "for k,v in data.items():\n",
    "    all_contracts.extend([i[0] for i in v.get('smart_contract')])\n"
   ]
  },
  {
   "cell_type": "code",
   "execution_count": 18,
   "id": "99300372-3d50-46ec-91c5-712786dd6dfe",
   "metadata": {},
   "outputs": [],
   "source": [
    "API_KEY = 'AMAAT6M368P2H92A54EV46YMBN5E58BNMV'"
   ]
  },
  {
   "cell_type": "code",
   "execution_count": 22,
   "id": "bc85f767-ca3b-4400-b52f-d91c592aec3f",
   "metadata": {},
   "outputs": [],
   "source": [
    "url = f\"\"\"https://api.etherscan.io/api\n",
    "   ?module=contract\n",
    "   &action=getabi\n",
    "   &address={all_contracts[0]}\n",
    "   &apikey={API_KEY}\"\"\""
   ]
  },
  {
   "cell_type": "code",
   "execution_count": 25,
   "id": "aaf426bb-045c-4349-b8e2-eb6e2854a24a",
   "metadata": {},
   "outputs": [],
   "source": [
    "req = requests.get(url)"
   ]
  },
  {
   "cell_type": "code",
   "execution_count": 29,
   "id": "11511b4a-ac4c-4e48-8a49-1e4e6a3afe11",
   "metadata": {},
   "outputs": [],
   "source": [
    "eth = Etherscan(API_KEY) "
   ]
  },
  {
   "cell_type": "code",
   "execution_count": 34,
   "id": "2f4b2b4d-30b8-44ea-ac88-39b7860f836c",
   "metadata": {},
   "outputs": [],
   "source": [
    "sc = eth.get_contract_source_code(all_contracts[100])"
   ]
  },
  {
   "cell_type": "code",
   "execution_count": 42,
   "id": "5ce64ba0-e121-4d46-acc2-e428b618c579",
   "metadata": {},
   "outputs": [],
   "source": [
    "sc_dict = defaultdict(dict)\n",
    "\n",
    "for i in all_contracts:\n",
    "    sc_dict[i][\"address\"] = i\n",
    "    sc_dict[i][\"abi\"] = eth.get_contract_abi(all_contracts[100])\n",
    "    sc_dict[i][\"source\"] = eth.get_contract_source_code(all_contracts[100])"
   ]
  },
  {
   "cell_type": "code",
   "execution_count": 43,
   "id": "a9eb01cb-d912-4a67-904f-cbcdc603666c",
   "metadata": {},
   "outputs": [],
   "source": [
    "with open('../data/smart_contracts/abi.json','w') as f:\n",
    "    json.dump(sc_dict, f)"
   ]
  },
  {
   "cell_type": "code",
   "execution_count": 81,
   "id": "49c1f6ec-e763-464a-a1a9-48559c4a1b13",
   "metadata": {},
   "outputs": [
    {
     "name": "stdout",
     "output_type": "stream",
     "text": [
      "None\n"
     ]
    }
   ],
   "source": [
    "sc_dict_2 = defaultdict(dict)\n",
    "for k, v in sc_dict.items():\n",
    "    sc_dict_2[k]['address'] = k\n",
    "    try:\n",
    "        sc_dict_2[k]['abi'] = json.loads(v['abi'])\n",
    "        sc_dict_2[k]['source'] = v[\"source\"]\n",
    "    except:\n",
    "        print(v.get('abi'))\n",
    "        \n",
    "        "
   ]
  },
  {
   "cell_type": "code",
   "execution_count": 84,
   "id": "4e93c97d-efa2-46e6-9034-603f2819563f",
   "metadata": {},
   "outputs": [],
   "source": [
    "with open('../data/smart_contracts/abi2.json','w') as f:\n",
    "    json.dump(sc_dict_2, f)"
   ]
  },
  {
   "cell_type": "markdown",
   "id": "fec49d14-a7a4-4624-8d09-17cad11ccc6a",
   "metadata": {},
   "source": [
    "# dapp_radar all pages"
   ]
  },
  {
   "cell_type": "code",
   "execution_count": 8,
   "id": "8039cf1c-a441-4aa6-b413-7fa5b3afe375",
   "metadata": {},
   "outputs": [],
   "source": [
    "import os\n",
    "import json\n",
    "from collections import defaultdict"
   ]
  },
  {
   "cell_type": "code",
   "execution_count": 15,
   "id": "f99f73a2-e510-4d27-9ead-c02d099aad31",
   "metadata": {},
   "outputs": [],
   "source": [
    "import re"
   ]
  },
  {
   "cell_type": "code",
   "execution_count": 37,
   "id": "a2a1cd0c-48cc-4e52-bbf9-87e8755c8213",
   "metadata": {},
   "outputs": [],
   "source": [
    "def clean_description(text):\n",
    "    return re.sub(r\"Description\\n[^\\n]*\", \"\", text).strip()\n",
    "def clean_users(text):\n",
    "    return re.sub(r\"\\n.*\",\"\",text)\n",
    "def clean_sc(sc_list):\n",
    "    if len(sc_list) > 0:\n",
    "        return [i[0] for i in sc_list]\n",
    "    else: \n",
    "        return sc_list\n",
    "    \n",
    "def clean_name(text):\n",
    "    return re.sub(r\"^NEW\",\"\", text)"
   ]
  },
  {
   "cell_type": "code",
   "execution_count": 10,
   "id": "aac6f85b-b7b4-4a5f-802b-74b86f44a7e5",
   "metadata": {},
   "outputs": [],
   "source": [
    "all_files = [filenames for (dirpath, dirnames, filenames) in os.walk('../data/dapp_radar/all_pages/')][0]\n"
   ]
  },
  {
   "cell_type": "code",
   "execution_count": 41,
   "id": "5a397343-80ee-4fdc-b11a-6c3b86c16849",
   "metadata": {},
   "outputs": [],
   "source": [
    "full_dapp = defaultdict(dict)\n",
    "\n",
    "for i in range(len(all_files)):\n",
    "    with open(f'../data/dapp_radar/all_pages/{all_files[i]}','r') as f:\n",
    "        data = json.load(f)\n",
    "        for k, v in data.items():\n",
    "            k = clean_name(k)\n",
    "            if k not in full_dapp:\n",
    "                try:\n",
    "                    full_dapp[k][\"name\"] = clean_name(v[\"name\"])\n",
    "                    full_dapp[k][\"chain\"] = v[\"chain\"]\n",
    "                    full_dapp[k][\"category\"] = v[\"category\"]\n",
    "                    full_dapp[k][\"balance\"] = v[\"balance\"]\n",
    "                    full_dapp[k][\"users\"] = clean_users(v[\"users\"])\n",
    "                    full_dapp[k][\"volume\"] = v[\"volume\"]\n",
    "                    full_dapp[k][\"imageUrl\"] = v[\"imageUrl\"]\n",
    "                    full_dapp[k][\"social\"] = v[\"social\"]\n",
    "                    full_dapp[k][\"description\"] = clean_description(v[\"description\"])\n",
    "                    full_dapp[k][\"smart_contract\"] = clean_sc(v[\"smart_contract\"])\n",
    "                    full_dapp[k][\"url\"] = v[\"url\"] if \"url\" in v else \"\"\n",
    "                except:\n",
    "                    print(v)"
   ]
  },
  {
   "cell_type": "code",
   "execution_count": 42,
   "id": "4956a0fc-50b9-4d66-a28f-be9ec905621a",
   "metadata": {},
   "outputs": [],
   "source": [
    "with open('../data/dapp_radar/full_data.json','w') as f:\n",
    "    json.dump(full_dapp, f)"
   ]
  },
  {
   "cell_type": "code",
   "execution_count": 43,
   "id": "327464e7-097a-49b9-9997-132ea7db4efa",
   "metadata": {},
   "outputs": [
    {
     "data": {
      "text/plain": [
       "{'name': 'New Government [NG]',\n",
       " 'chain': 'ETH',\n",
       " 'category': 'High-Risk',\n",
       " 'balance': '$0',\n",
       " 'users': '0',\n",
       " 'volume': '$0',\n",
       " 'imageUrl': 'https://dashboard-assets.dappradar.com/document/7513/newgovernmentng-dapp-games-ethereum-logo-50x50_feb3dfbfb909e7a68002007a92cc75b8.png',\n",
       " 'social': ['https://discord.gg/NQN3ccb8ta'],\n",
       " 'description': \"Create your own president: mix Donald Trump with Vladimir Putin. Or maybe you would like to get a nuclear mix of Kim Jong-un and the Pope? On CREATE NEW PRESIDENT, it's up to you.\\n1. We will sell you any 2 presidents of your choice: one president - 1 NFT-token.\\n2. We will create a new personality from this couple and train it to lead the country.\\nNow it's your turn:\\n· Create your own state, which will be headed by your own unique president.\\n· Develop the economy, politics, the army and the people of your country.\\n· Interact with the states of other participants: trade, fight, conclude diplomatic agreements.\\nEarn USDT\\nWars, the development of production, trade, the level of economic development of the country - your source of USDT. For each military victory, your wallet will receive tokens. The higher the level of development of the state is the more USDT the system charges you.\",\n",
       " 'smart_contract': ['0xac32bb4ee69f94438c94abed9677d6508a14af48'],\n",
       " 'url': 'about:blank'}"
      ]
     },
     "execution_count": 43,
     "metadata": {},
     "output_type": "execute_result"
    }
   ],
   "source": [
    "full_dapp[\"New Government [NG]\"]"
   ]
  },
  {
   "cell_type": "code",
   "execution_count": null,
   "id": "54893837-9a4c-481d-aa6d-a6b403e056c7",
   "metadata": {},
   "outputs": [],
   "source": []
  }
 ],
 "metadata": {
  "kernelspec": {
   "display_name": "crawl_dapp-uk3ioV_e",
   "language": "python",
   "name": "crawl_dapp-uk3iov_e"
  },
  "language_info": {
   "codemirror_mode": {
    "name": "ipython",
    "version": 3
   },
   "file_extension": ".py",
   "mimetype": "text/x-python",
   "name": "python",
   "nbconvert_exporter": "python",
   "pygments_lexer": "ipython3",
   "version": "3.9.7"
  }
 },
 "nbformat": 4,
 "nbformat_minor": 5
}
