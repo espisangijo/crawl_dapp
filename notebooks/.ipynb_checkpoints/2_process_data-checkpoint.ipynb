{
 "cells": [
  {
   "cell_type": "code",
   "execution_count": 41,
   "id": "ff06e16a-4f1d-4325-ace7-c2abb6d17bcb",
   "metadata": {},
   "outputs": [],
   "source": [
    "import json\n",
    "import requests\n",
    "from etherscan import Etherscan\n",
    "from collections import defaultdict"
   ]
  },
  {
   "cell_type": "code",
   "execution_count": 4,
   "id": "f2246ee8-fda8-40d9-9c37-5bda76fa7f4e",
   "metadata": {},
   "outputs": [],
   "source": [
    "with open('../data/dapp_radar/new_dapp.json','r') as f:\n",
    "    data = json.load(f)"
   ]
  },
  {
   "cell_type": "code",
   "execution_count": 15,
   "id": "1cfa926f-7c71-4a72-b30a-85737a31538b",
   "metadata": {},
   "outputs": [],
   "source": [
    "all_contracts = []\n",
    "for k,v in data.items():\n",
    "    all_contracts.extend([i[0] for i in v.get('smart_contract')])\n"
   ]
  },
  {
   "cell_type": "code",
   "execution_count": 18,
   "id": "99300372-3d50-46ec-91c5-712786dd6dfe",
   "metadata": {},
   "outputs": [],
   "source": [
    "API_KEY = 'AMAAT6M368P2H92A54EV46YMBN5E58BNMV'"
   ]
  },
  {
   "cell_type": "code",
   "execution_count": 22,
   "id": "bc85f767-ca3b-4400-b52f-d91c592aec3f",
   "metadata": {},
   "outputs": [],
   "source": [
    "url = f\"\"\"https://api.etherscan.io/api\n",
    "   ?module=contract\n",
    "   &action=getabi\n",
    "   &address={all_contracts[0]}\n",
    "   &apikey={API_KEY}\"\"\""
   ]
  },
  {
   "cell_type": "code",
   "execution_count": 25,
   "id": "aaf426bb-045c-4349-b8e2-eb6e2854a24a",
   "metadata": {},
   "outputs": [],
   "source": [
    "req = requests.get(url)"
   ]
  },
  {
   "cell_type": "code",
   "execution_count": 29,
   "id": "11511b4a-ac4c-4e48-8a49-1e4e6a3afe11",
   "metadata": {},
   "outputs": [],
   "source": [
    "eth = Etherscan(API_KEY) "
   ]
  },
  {
   "cell_type": "code",
   "execution_count": 34,
   "id": "2f4b2b4d-30b8-44ea-ac88-39b7860f836c",
   "metadata": {},
   "outputs": [],
   "source": [
    "sc = eth.get_contract_source_code(all_contracts[100])"
   ]
  },
  {
   "cell_type": "code",
   "execution_count": 42,
   "id": "5ce64ba0-e121-4d46-acc2-e428b618c579",
   "metadata": {},
   "outputs": [],
   "source": [
    "sc_dict = defaultdict(dict)\n",
    "\n",
    "for i in all_contracts:\n",
    "    sc_dict[i][\"address\"] = i\n",
    "    sc_dict[i][\"abi\"] = eth.get_contract_abi(all_contracts[100])\n",
    "    sc_dict[i][\"source\"] = eth.get_contract_source_code(all_contracts[100])"
   ]
  },
  {
   "cell_type": "code",
   "execution_count": 43,
   "id": "a9eb01cb-d912-4a67-904f-cbcdc603666c",
   "metadata": {},
   "outputs": [],
   "source": [
    "with open('../data/smart_contracts/abi.json','w') as f:\n",
    "    json.dump(sc_dict, f)"
   ]
  },
  {
   "cell_type": "code",
   "execution_count": null,
   "id": "49c1f6ec-e763-464a-a1a9-48559c4a1b13",
   "metadata": {},
   "outputs": [],
   "source": []
  }
 ],
 "metadata": {
  "kernelspec": {
   "display_name": "crawl_dapp-uk3ioV_e",
   "language": "python",
   "name": "crawl_dapp-uk3iov_e"
  },
  "language_info": {
   "codemirror_mode": {
    "name": "ipython",
    "version": 3
   },
   "file_extension": ".py",
   "mimetype": "text/x-python",
   "name": "python",
   "nbconvert_exporter": "python",
   "pygments_lexer": "ipython3",
   "version": "3.9.7"
  }
 },
 "nbformat": 4,
 "nbformat_minor": 5
}
